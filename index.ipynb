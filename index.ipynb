{
 "cells": [
  {
   "cell_type": "markdown",
   "metadata": {},
   "source": [
    "# Filtering, Ordering, and Limiting Data with SQL - Lab\n"
   ]
  },
  {
   "cell_type": "markdown",
   "metadata": {},
   "source": [
    "## Introduction\n",
    "In this lab, you will practice writing SQL `SELECT` queries that limit results based on conditions, using `WHERE`, `ORDER BY`, and `LIMIT`."
   ]
  },
  {
   "cell_type": "markdown",
   "metadata": {},
   "source": [
    "## Objectives\n",
    "You will practice the following:\n",
    "\n",
    "* Order the results of your queries by using `ORDER BY` (`ASC` & `DESC`)\n",
    "* Limit the number of records returned by a query using `LIMIT`\n",
    "* Write SQL queries to filter and order results"
   ]
  },
  {
   "cell_type": "markdown",
   "metadata": {},
   "source": [
    "## The Data"
   ]
  },
  {
   "cell_type": "markdown",
   "metadata": {},
   "source": [
    "Here's a database full of famous dogs!  The `dogs` table is populated with the following data:\n",
    "\n",
    "|name      |age    |gender |breed           |temperament|hungry |\n",
    "|----------|-------|-------|----------------|-----------|-------|\n",
    "|Snoopy    |3      |M      |beagle          |friendly   |1      |\n",
    "|McGruff   |10     |M      |bloodhound      |aware      |0      |\n",
    "|Scooby    |6      |M      |great dane      |hungry     |1      |\n",
    "|Little Ann|5      |F      |coonhound       |loyal      |0      |\n",
    "|Pickles   |13     |F      |black lab       |mischievous|1      |\n",
    "|Clifford  |4      |M      |big red         |smiley     |1      |\n",
    "|Lassie    |7      |F      |collie          |loving     |1      |\n",
    "|Snowy     |8      |F      |fox terrier     |adventurous|0      |\n",
    "|NULL      |4      |M      |golden retriever|playful    |1      |"
   ]
  },
  {
   "cell_type": "markdown",
   "metadata": {},
   "source": [
    "## Connecting to the Database\n",
    "\n",
    "In the cell below, import `pandas` and `sqlite3`. Then establish a connection to the database `dogs.db`.\n",
    "\n",
    "Look at all of the data in the table by selecting all columns from the `dogs` table with `pd.read_sql`."
   ]
  },
  {
   "cell_type": "code",
   "execution_count": 4,
   "metadata": {},
   "outputs": [
    {
     "name": "stdout",
     "output_type": "stream",
     "text": [
      "   id        name  age gender             breed  temperament  hungry\n",
      "0   1      Snoopy    3      M            beagle     friendly       1\n",
      "1   2     McGruff   10      M        bloodhound        aware       0\n",
      "2   3      Scooby    6      M        great dane       hungry       1\n",
      "3   4  Little Ann    5      F         coonhound        loyal       0\n",
      "4   5     Pickles   13      F         black lab  mischievous       1\n",
      "5   6    Clifford    4      M           big red       smiley       1\n",
      "6   7      Lassie    7      F            collie       loving       1\n",
      "7   8       Snowy    8      F       fox terrier  adventurous       0\n",
      "8   9        None    4      M  golden retriever      playful       1\n"
     ]
    }
   ],
   "source": [
    "# Your code here; imports, create a connection, select all\n",
    "import sqlite3\n",
    "import pandas as pd    \n",
    "\n",
    "conn = sqlite3.connect('dogs.db')\n",
    "dogs_df = pd.read_sql('SELECT * FROM dogs;', conn)\n",
    "print(dogs_df)\n"
   ]
  },
  {
   "cell_type": "markdown",
   "metadata": {},
   "source": [
    "## Queries\n",
    "\n",
    "Display the outputs for each of the following query descriptions."
   ]
  },
  {
   "cell_type": "markdown",
   "metadata": {},
   "source": [
    "### Select the name and breed for all female dogs\n",
    "\n",
    "<details>\n",
    "    <summary style=\"cursor: pointer; display: inline\"><h4>Click for hint:</h4></summary>\n",
    "    <p>Use <code>WHERE</code> with the <code>=</code> operator</p>\n",
    "</details>"
   ]
  },
  {
   "cell_type": "code",
   "execution_count": 5,
   "metadata": {},
   "outputs": [
    {
     "name": "stdout",
     "output_type": "stream",
     "text": [
      "         name        breed\n",
      "0  Little Ann    coonhound\n",
      "1     Pickles    black lab\n",
      "2      Lassie       collie\n",
      "3       Snowy  fox terrier\n"
     ]
    }
   ],
   "source": [
    "# Your code here\n",
    "query1 = \"\"\" \n",
    "SELECT name, breed\n",
    "FROM dogs \n",
    "WHERE gender = 'F';\n",
    "\"\"\"\n",
    "f_dogs_df = pd.read_sql(query1,conn)\n",
    "print(f_dogs_df)\n"
   ]
  },
  {
   "cell_type": "markdown",
   "metadata": {},
   "source": [
    "### Select the number of dogs that do not have a name\n",
    "\n",
    "<details>\n",
    "    <summary style=\"cursor: pointer; display: inline\"><h4>Click for hint:</h4></summary>\n",
    "    <p>Use <code>COUNT</code> and <code>IS NULL</code></p>\n",
    "</details>"
   ]
  },
  {
   "cell_type": "code",
   "execution_count": 6,
   "metadata": {},
   "outputs": [
    {
     "name": "stdout",
     "output_type": "stream",
     "text": [
      "   nameless_dogs\n",
      "0              1\n"
     ]
    }
   ],
   "source": [
    "# Your code here\n",
    "query2 = \"\"\" \n",
    "SELECT COUNT (*) AS nameless_dogs\n",
    "FROM dogs\n",
    "WHERE name is NULL;\n",
    "\"\"\"\n",
    "nameless_df = pd.read_sql(query2, conn)\n",
    "print(nameless_df)"
   ]
  },
  {
   "cell_type": "markdown",
   "metadata": {},
   "source": [
    "### Select the names of all dogs that contain the double letters `ff` or `oo`\n",
    "\n",
    "<details>\n",
    "    <summary style=\"cursor: pointer; display: inline\"><h4>Click for hint:</h4></summary>\n",
    "    <p>Use <code>LIKE</code>, <code>%</code>, and <code>OR</code></p>\n",
    "</details>"
   ]
  },
  {
   "cell_type": "code",
   "execution_count": 8,
   "metadata": {},
   "outputs": [
    {
     "name": "stdout",
     "output_type": "stream",
     "text": [
      "     name\n",
      "0  Snoopy\n",
      "1  Scooby\n"
     ]
    }
   ],
   "source": [
    "# Your code here\n",
    "query3 = \"\"\" \n",
    "SELECT name \n",
    "FROM dogs\n",
    "WHERE name LIKE '%oo%' OR '%ff%';\n",
    "\"\"\"\n",
    "double_letter_df = pd.read_sql(query3, conn)\n",
    "print(double_letter_df)"
   ]
  },
  {
   "cell_type": "markdown",
   "metadata": {},
   "source": [
    "### Select the names of all dogs listed in alphabetical order.  Notice that SQL lists the nameless dog first.\n",
    "\n",
    "<details>\n",
    "    <summary style=\"cursor: pointer; display: inline\"><h4>Click for hint:</h4></summary>\n",
    "    <p>Use <code>ORDER BY</code></p>\n",
    "</details>"
   ]
  },
  {
   "cell_type": "code",
   "execution_count": 9,
   "metadata": {},
   "outputs": [
    {
     "name": "stdout",
     "output_type": "stream",
     "text": [
      "         name\n",
      "0        None\n",
      "1    Clifford\n",
      "2      Lassie\n",
      "3  Little Ann\n",
      "4     McGruff\n",
      "5     Pickles\n",
      "6      Scooby\n",
      "7      Snoopy\n",
      "8       Snowy\n"
     ]
    }
   ],
   "source": [
    "# Your code here\n",
    "query4 = \"\"\" \n",
    "SELECT name\n",
    "FROM dogs\n",
    "ORDER BY name ASC;\n",
    "\"\"\"\n",
    "alphabetical_names_df = pd.read_sql(query4, conn)\n",
    "print(alphabetical_names_df)"
   ]
  },
  {
   "cell_type": "markdown",
   "metadata": {},
   "source": [
    "### Select the name and breed of only the hungry dogs and list them from youngest to oldest"
   ]
  },
  {
   "cell_type": "code",
   "execution_count": 12,
   "metadata": {},
   "outputs": [
    {
     "name": "stdout",
     "output_type": "stream",
     "text": [
      "       name             breed\n",
      "0    Snoopy            beagle\n",
      "1  Clifford           big red\n",
      "2      None  golden retriever\n",
      "3    Scooby        great dane\n",
      "4    Lassie            collie\n",
      "5   Pickles         black lab\n"
     ]
    }
   ],
   "source": [
    "# Your code here\n",
    "query5 = \"\"\" \n",
    "SELECT name, breed\n",
    "FROM dogs\n",
    "WHERE hungry = 1 \n",
    "ORDER BY age ASC;\n",
    "\"\"\"\n",
    "hungry_age_df = pd.read_sql(query5, conn)\n",
    "print(hungry_age_df)"
   ]
  },
  {
   "cell_type": "markdown",
   "metadata": {},
   "source": [
    "### Select the oldest dog's name, age, and temperament\n",
    "\n",
    "<details>\n",
    "    <summary style=\"cursor: pointer; display: inline\"><h4>Click for hint:</h4></summary>\n",
    "    <p>Use <code>ORDER BY</code> with <code>LIMIT</code></p>\n",
    "</details>"
   ]
  },
  {
   "cell_type": "code",
   "execution_count": 14,
   "metadata": {},
   "outputs": [
    {
     "name": "stdout",
     "output_type": "stream",
     "text": [
      "      name  age  temperament\n",
      "0  Pickles   13  mischievous\n"
     ]
    }
   ],
   "source": [
    "# Your code here\n",
    "query6 = \"\"\" \n",
    "SELECT name, age, temperament\n",
    "FROM dogs\n",
    "ORDER BY age DESC\n",
    "LIMIT 1;\n",
    "\"\"\"\n",
    "oldest_dog_df = pd.read_sql(query6, conn)\n",
    "print(oldest_dog_df)"
   ]
  },
  {
   "cell_type": "markdown",
   "metadata": {},
   "source": [
    "### Select the name and age of the three youngest dogs"
   ]
  },
  {
   "cell_type": "code",
   "execution_count": 16,
   "metadata": {},
   "outputs": [
    {
     "name": "stdout",
     "output_type": "stream",
     "text": [
      "       name  age\n",
      "0    Snoopy    3\n",
      "1  Clifford    4\n",
      "2      None    4\n"
     ]
    }
   ],
   "source": [
    "# Your code here\n",
    "query7 = \"\"\" \n",
    "SELECT name, age\n",
    "FROM dogs\n",
    "ORDER BY age ASC\n",
    "LIMIT 3;\n",
    "\"\"\"\n",
    "youngest_df = pd.read_sql(query7, conn)\n",
    "print(youngest_df)"
   ]
  },
  {
   "cell_type": "markdown",
   "metadata": {},
   "source": [
    "### Select the name and breed of the dogs who are between five and ten years old, ordered from oldest to youngest\n",
    "\n",
    "<details>\n",
    "    <summary style=\"cursor: pointer; display: inline\"><h4>Click for hint:</h4></summary>\n",
    "    <p>Use <code>WHERE</code> with <code>BETWEEN</code></p>\n",
    "</details>"
   ]
  },
  {
   "cell_type": "code",
   "execution_count": 17,
   "metadata": {},
   "outputs": [
    {
     "name": "stdout",
     "output_type": "stream",
     "text": [
      "         name        breed\n",
      "0     McGruff   bloodhound\n",
      "1       Snowy  fox terrier\n",
      "2      Lassie       collie\n",
      "3      Scooby   great dane\n",
      "4  Little Ann    coonhound\n"
     ]
    }
   ],
   "source": [
    "# Your code here\n",
    "query8 = \"\"\" \n",
    "SELECT name, breed\n",
    "FROM dogs\n",
    "WHERE age BETWEEN 5 AND 10\n",
    "ORDER BY age DESC;\n",
    "\"\"\"\n",
    "five_10_years_df = pd.read_sql(query8, conn)\n",
    "print(five_10_years_df)"
   ]
  },
  {
   "cell_type": "markdown",
   "metadata": {},
   "source": [
    "### Select the name, age, and hungry columns for hungry dogs between the ages of two and seven.  This query should also list these dogs in alphabetical order."
   ]
  },
  {
   "cell_type": "code",
   "execution_count": 19,
   "metadata": {},
   "outputs": [
    {
     "name": "stdout",
     "output_type": "stream",
     "text": [
      "       name  age  hungry\n",
      "0      None    4       1\n",
      "1  Clifford    4       1\n",
      "2    Lassie    7       1\n",
      "3    Scooby    6       1\n",
      "4    Snoopy    3       1\n"
     ]
    }
   ],
   "source": [
    "# Your code here\n",
    "query9 = \"\"\"\n",
    "SELECT name, age, hungry\n",
    "FROM dogs\n",
    "WHERE hungry = 1 and age BETWEEN 2 AND 7\n",
    "ORDER BY name ASC;\n",
    "\"\"\"\n",
    "hungry_age_2_7_df = pd.read_sql(query9, conn)\n",
    "print(hungry_age_2_7_df)"
   ]
  },
  {
   "cell_type": "markdown",
   "metadata": {},
   "source": [
    "## Close the Database Connection"
   ]
  },
  {
   "cell_type": "code",
   "execution_count": 20,
   "metadata": {},
   "outputs": [],
   "source": [
    "conn.close()"
   ]
  },
  {
   "cell_type": "markdown",
   "metadata": {},
   "source": [
    "## Summary"
   ]
  },
  {
   "cell_type": "markdown",
   "metadata": {},
   "source": [
    "Great work! In this lab you practiced writing more complex SQL statements to not only query specific information but also define the quantity and order of your results. "
   ]
  }
 ],
 "metadata": {
  "kernelspec": {
   "display_name": "Python 3",
   "language": "python",
   "name": "python3"
  },
  "language_info": {
   "codemirror_mode": {
    "name": "ipython",
    "version": 3
   },
   "file_extension": ".py",
   "mimetype": "text/x-python",
   "name": "python",
   "nbconvert_exporter": "python",
   "pygments_lexer": "ipython3",
   "version": "3.13.1"
  },
  "toc": {
   "base_numbering": 1,
   "nav_menu": {},
   "number_sections": true,
   "sideBar": true,
   "skip_h1_title": false,
   "title_cell": "Table of Contents",
   "title_sidebar": "Contents",
   "toc_cell": false,
   "toc_position": {},
   "toc_section_display": true,
   "toc_window_display": false
  }
 },
 "nbformat": 4,
 "nbformat_minor": 2
}
